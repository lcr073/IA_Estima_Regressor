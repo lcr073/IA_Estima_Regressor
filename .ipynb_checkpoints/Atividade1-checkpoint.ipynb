{
 "cells": [
  {
   "cell_type": "code",
   "execution_count": 2,
   "metadata": {},
   "outputs": [
    {
     "name": "stderr",
     "output_type": "stream",
     "text": [
      "C:\\Users\\lcr07\\AppData\\Local\\conda\\conda\\envs\\test\\lib\\site-packages\\sklearn\\utils\\__init__.py:4: DeprecationWarning: Using or importing the ABCs from 'collections' instead of from 'collections.abc' is deprecated, and in 3.8 it will stop working\n",
      "  from collections import Sequence\n",
      "C:\\Users\\lcr07\\AppData\\Local\\conda\\conda\\envs\\test\\lib\\site-packages\\sklearn\\ensemble\\weight_boosting.py:29: DeprecationWarning: numpy.core.umath_tests is an internal NumPy module and should not be imported. It will be removed in a future NumPy release.\n",
      "  from numpy.core.umath_tests import inner1d\n"
     ]
    }
   ],
   "source": [
    "import pandas as pd\n",
    "import numpy as numpy\n",
    "from sklearn.model_selection import train_test_split\n",
    "from sklearn.tree import DecisionTreeClassifier, export_graphviz\n",
    "from sklearn.externals import joblib\n",
    "from sklearn import linear_model, preprocessing\n",
    "from sklearn.preprocessing import PolynomialFeatures\n",
    "from sklearn import ensemble"
   ]
  },
  {
   "cell_type": "code",
   "execution_count": 3,
   "metadata": {
    "scrolled": true
   },
   "outputs": [
    {
     "data": {
      "text/html": [
       "<div>\n",
       "<style scoped>\n",
       "    .dataframe tbody tr th:only-of-type {\n",
       "        vertical-align: middle;\n",
       "    }\n",
       "\n",
       "    .dataframe tbody tr th {\n",
       "        vertical-align: top;\n",
       "    }\n",
       "\n",
       "    .dataframe thead th {\n",
       "        text-align: right;\n",
       "    }\n",
       "</style>\n",
       "<table border=\"1\" class=\"dataframe\">\n",
       "  <thead>\n",
       "    <tr style=\"text-align: right;\">\n",
       "      <th></th>\n",
       "      <th>longitude</th>\n",
       "      <th>latitude</th>\n",
       "      <th>housing_median_age</th>\n",
       "      <th>total_rooms</th>\n",
       "      <th>total_bedrooms</th>\n",
       "      <th>population</th>\n",
       "      <th>households</th>\n",
       "      <th>median_income</th>\n",
       "      <th>median_house_value</th>\n",
       "      <th>ocean_proximity</th>\n",
       "    </tr>\n",
       "  </thead>\n",
       "  <tbody>\n",
       "    <tr>\n",
       "      <th>0</th>\n",
       "      <td>-122.23</td>\n",
       "      <td>37.88</td>\n",
       "      <td>41.0</td>\n",
       "      <td>880.0</td>\n",
       "      <td>129.0</td>\n",
       "      <td>322.0</td>\n",
       "      <td>126.0</td>\n",
       "      <td>8.3252</td>\n",
       "      <td>452600.0</td>\n",
       "      <td>NEAR BAY</td>\n",
       "    </tr>\n",
       "    <tr>\n",
       "      <th>1</th>\n",
       "      <td>-122.25</td>\n",
       "      <td>37.85</td>\n",
       "      <td>52.0</td>\n",
       "      <td>919.0</td>\n",
       "      <td></td>\n",
       "      <td>413.0</td>\n",
       "      <td></td>\n",
       "      <td>4.0368</td>\n",
       "      <td>269700.0</td>\n",
       "      <td>NEAR BAY</td>\n",
       "    </tr>\n",
       "    <tr>\n",
       "      <th>2</th>\n",
       "      <td>-122.25</td>\n",
       "      <td>37.84</td>\n",
       "      <td>52.0</td>\n",
       "      <td>2535.0</td>\n",
       "      <td>489.0</td>\n",
       "      <td>1094.0</td>\n",
       "      <td>514.0</td>\n",
       "      <td>3.6591</td>\n",
       "      <td>299200.0</td>\n",
       "      <td>NEAR BAY</td>\n",
       "    </tr>\n",
       "    <tr>\n",
       "      <th>3</th>\n",
       "      <td>-122.25</td>\n",
       "      <td>37.84</td>\n",
       "      <td>52.0</td>\n",
       "      <td>3104.0</td>\n",
       "      <td>687.0</td>\n",
       "      <td>1157.0</td>\n",
       "      <td>647.0</td>\n",
       "      <td>3.1200</td>\n",
       "      <td>241400.0</td>\n",
       "      <td>NEAR BAY</td>\n",
       "    </tr>\n",
       "    <tr>\n",
       "      <th>4</th>\n",
       "      <td>-122.26</td>\n",
       "      <td>37.84</td>\n",
       "      <td>42.0</td>\n",
       "      <td>2555.0</td>\n",
       "      <td>665.0</td>\n",
       "      <td>1206.0</td>\n",
       "      <td>595.0</td>\n",
       "      <td>2.0804</td>\n",
       "      <td>226700.0</td>\n",
       "      <td>NEAR BAY</td>\n",
       "    </tr>\n",
       "  </tbody>\n",
       "</table>\n",
       "</div>"
      ],
      "text/plain": [
       "  longitude  latitude housing_median_age total_rooms total_bedrooms  \\\n",
       "0   -122.23     37.88               41.0       880.0          129.0   \n",
       "1   -122.25     37.85               52.0       919.0                  \n",
       "2   -122.25     37.84               52.0      2535.0          489.0   \n",
       "3   -122.25     37.84               52.0      3104.0          687.0   \n",
       "4   -122.26     37.84               42.0      2555.0          665.0   \n",
       "\n",
       "  population households  median_income median_house_value ocean_proximity  \n",
       "0      322.0      126.0         8.3252           452600.0        NEAR BAY  \n",
       "1      413.0                    4.0368           269700.0        NEAR BAY  \n",
       "2     1094.0      514.0         3.6591           299200.0        NEAR BAY  \n",
       "3     1157.0      647.0         3.1200           241400.0        NEAR BAY  \n",
       "4     1206.0      595.0         2.0804           226700.0        NEAR BAY  "
      ]
     },
     "execution_count": 3,
     "metadata": {},
     "output_type": "execute_result"
    }
   ],
   "source": [
    "# Importando dataframe\n",
    "df = pd.read_csv(\"precos_casa_california.csv\")\n",
    "\n",
    "# Lendo o cabecalho (Mostrando os 5 primeiros)\n",
    "df.head()"
   ]
  },
  {
   "cell_type": "code",
   "execution_count": 4,
   "metadata": {},
   "outputs": [
    {
     "name": "stdout",
     "output_type": "stream",
     "text": [
      "<class 'pandas.core.frame.DataFrame'>\n",
      "RangeIndex: 20445 entries, 0 to 20444\n",
      "Data columns (total 10 columns):\n",
      "longitude             20445 non-null object\n",
      "latitude              20445 non-null float64\n",
      "housing_median_age    20445 non-null object\n",
      "total_rooms           20445 non-null object\n",
      "total_bedrooms        20241 non-null object\n",
      "population            20445 non-null object\n",
      "households            20445 non-null object\n",
      "median_income         20444 non-null float64\n",
      "median_house_value    20445 non-null object\n",
      "ocean_proximity       20445 non-null object\n",
      "dtypes: float64(2), object(8)\n",
      "memory usage: 1.6+ MB\n"
     ]
    }
   ],
   "source": [
    "# Exibindo os tipo de dados importados\n",
    "# Vendo qtd de dados nao nulos\n",
    "df.info()"
   ]
  },
  {
   "cell_type": "code",
   "execution_count": 5,
   "metadata": {},
   "outputs": [
    {
     "name": "stdout",
     "output_type": "stream",
     "text": [
      "['NEAR BAY' '<1H OCEAN' 'INLAND' 'NEAR OCEAN' 'ISLAND' ' ']\n"
     ]
    }
   ],
   "source": [
    "# Descobrindo os tipos de valores que tem na coluna para converter\n",
    "filtro = df['ocean_proximity'].unique()\n",
    "print(filtro)"
   ]
  },
  {
   "cell_type": "code",
   "execution_count": 6,
   "metadata": {},
   "outputs": [
    {
     "name": "stdout",
     "output_type": "stream",
     "text": [
      "[0 1 2 3 4 ' ']\n"
     ]
    }
   ],
   "source": [
    "# Filtrando valores incorretos ({ISLAND, INLAND}, {<1H OCEAN, NEAR OCEAN}, NEAR BAY)\n",
    "# Trocando o valor \n",
    "# Criando classificacoes para ultima coluna\n",
    "df_proc = df.replace({'NEAR BAY' : 0, '<1H OCEAN':1,'INLAND':2,'NEAR OCEAN':3,'ISLAND':4})\n",
    "filtro = df_proc['ocean_proximity'].unique()\n",
    "print(filtro)"
   ]
  },
  {
   "cell_type": "code",
   "execution_count": 7,
   "metadata": {},
   "outputs": [],
   "source": [
    "# Convertendo para dados numericos (Ja surge os NaN)\n",
    "cols = df.columns\n",
    "df_proc[cols] = df_proc[cols].apply(pd.to_numeric,errors='coerce')\n",
    "\n",
    "# Tirando tuplas com valore nulos\n",
    "df_proc_limpo = df_proc.dropna(axis=\"rows\")"
   ]
  },
  {
   "cell_type": "code",
   "execution_count": 8,
   "metadata": {},
   "outputs": [
    {
     "name": "stdout",
     "output_type": "stream",
     "text": [
      "[0. 1. 2. 3. 4.]\n",
      "<class 'pandas.core.frame.DataFrame'>\n",
      "Int64Index: 20214 entries, 0 to 20444\n",
      "Data columns (total 10 columns):\n",
      "longitude             20214 non-null float64\n",
      "latitude              20214 non-null float64\n",
      "housing_median_age    20214 non-null float64\n",
      "total_rooms           20214 non-null float64\n",
      "total_bedrooms        20214 non-null float64\n",
      "population            20214 non-null float64\n",
      "households            20214 non-null float64\n",
      "median_income         20214 non-null float64\n",
      "median_house_value    20214 non-null float64\n",
      "ocean_proximity       20214 non-null float64\n",
      "dtypes: float64(10)\n",
      "memory usage: 1.7 MB\n"
     ]
    }
   ],
   "source": [
    "# Confirmando que valores foram substituidos\n",
    "filtro = df_proc_limpo['ocean_proximity'].unique()\n",
    "print(filtro)\n",
    "\n",
    "# Confirmando que nao tem mais dado nulo do data set\n",
    "df_proc_limpo.info()"
   ]
  },
  {
   "cell_type": "code",
   "execution_count": 9,
   "metadata": {},
   "outputs": [
    {
     "data": {
      "image/png": "[encoded data removed]",
      "text/plain": [
       "<Figure size 720x1080 with 12 Axes>"
      ]
     },
     "metadata": {
      "needs_background": "light"
     },
     "output_type": "display_data"
    }
   ],
   "source": [
    "# Montando histograma\n",
    "%matplotlib inline\n",
    "import matplotlib.pyplot as plt\n",
    "df_proc_limpo.hist(bins=30,figsize=(10,15))\n",
    "plt.show()"
   ]
  },
  {
   "cell_type": "code",
   "execution_count": 10,
   "metadata": {},
   "outputs": [],
   "source": [
    "# Tentando tirar tuplas com dados corrompidos\n",
    "# Se o valor do campo estiver +- doque 2 vezes o desvio padrao partindo da media é tirada\n",
    "# Tentando limpara mais o dataset\n",
    "# Tendo a media e +- 2x o desvio padrao temos 90% dos dados\n",
    "# Pegando a media\n",
    "#df_proc_limpo.mean()\n",
    "# Pegando o desvio padrao\n",
    "#df_proc_limpo['longitude'].std()\n",
    "# Valores de corte\n",
    "# - households\n",
    "corte_households_max = df_proc_limpo['households'].mean() + 2* df_proc_limpo['households'].std()\n",
    "corte_households_min = df_proc_limpo['households'].mean() - 2* df_proc_limpo['households'].std()\n",
    "# - housing_median_age\n",
    "corte_housing_median_age_max = df_proc_limpo['housing_median_age'].mean() + 2* df_proc_limpo['housing_median_age'].std()\n",
    "corte_housing_median_age_min = df_proc_limpo['housing_median_age'].mean() - 2* df_proc_limpo['housing_median_age'].std()\n",
    "# - total_rooms\n",
    "corte_total_rooms_max = df_proc_limpo['total_rooms'].mean() + 2* df_proc_limpo['total_rooms'].std()\n",
    "corte_total_rooms_min = df_proc_limpo['total_rooms'].mean() - 2* df_proc_limpo['total_rooms'].std()\n",
    "# - total_bedrooms\n",
    "corte_total_bedrooms_max = df_proc_limpo['total_bedrooms'].mean() + 2* df_proc_limpo['total_bedrooms'].std()\n",
    "corte_total_bedrooms_min = df_proc_limpo['total_bedrooms'].mean() - 2* df_proc_limpo['total_bedrooms'].std()\n",
    "# - population\n",
    "corte_population_max = df_proc_limpo['population'].mean() + 2* df_proc_limpo['population'].std()\n",
    "corte_population_max_min = df_proc_limpo['population'].mean() - 2* df_proc_limpo['population'].std()\n",
    "# - median_income\n",
    "corte_median_income_max = df_proc_limpo['median_income'].mean() + 2* df_proc_limpo['median_income'].std()\n",
    "corte_median_income_min = df_proc_limpo['median_income'].mean() - 2* df_proc_limpo['median_income'].std()\n",
    "# - median_house_value\n",
    "corte_median_house_value_max = df_proc_limpo['median_house_value'].mean() + 2* df_proc_limpo['median_house_value'].std()\n",
    "corte_median_house_value_min = df_proc_limpo['median_house_value'].mean() - 2* df_proc_limpo['median_house_value'].std()\n"
   ]
  },
  {
   "cell_type": "code",
   "execution_count": 13,
   "metadata": {},
   "outputs": [
    {
     "name": "stdout",
     "output_type": "stream",
     "text": [
      "<class 'pandas.core.frame.DataFrame'>\n",
      "Int64Index: 19076 entries, 0 to 20443\n",
      "Data columns (total 10 columns):\n",
      "longitude             19076 non-null float64\n",
      "latitude              19076 non-null float64\n",
      "housing_median_age    19076 non-null float64\n",
      "total_rooms           19076 non-null float64\n",
      "total_bedrooms        19076 non-null float64\n",
      "population            19076 non-null float64\n",
      "households            19076 non-null float64\n",
      "median_income         19076 non-null float64\n",
      "median_house_value    19076 non-null float64\n",
      "ocean_proximity       19076 non-null float64\n",
      "dtypes: float64(10)\n",
      "memory usage: 1.6 MB\n"
     ]
    }
   ],
   "source": [
    "\n",
    "#df_proc_limpo = df_proc_limpo.loc[df_proc_limpo['households'] >= corte_households_min]\n",
    "#df_proc_limpo = df_proc_limpo.loc[df_proc_limpo['households'] <= corte_households_max]\n",
    "\n",
    "df_proc_limpo = df_proc_limpo.loc[df_proc_limpo['housing_median_age'] >= corte_housing_median_age_min]\n",
    "df_proc_limpo = df_proc_limpo.loc[df_proc_limpo['housing_median_age'] <= corte_housing_median_age_max]\n",
    "\n",
    "df_proc_limpo = df_proc_limpo.loc[df_proc_limpo['total_rooms'] >= corte_total_rooms_min]\n",
    "df_proc_limpo = df_proc_limpo.loc[df_proc_limpo['total_rooms'] <= corte_total_rooms_max]\n",
    "\n",
    "df_proc_limpo = df_proc_limpo.loc[df_proc_limpo['total_bedrooms'] >= corte_total_bedrooms_min]\n",
    "df_proc_limpo = df_proc_limpo.loc[df_proc_limpo['total_bedrooms'] <= corte_total_bedrooms_max]\n",
    "\n",
    "df_proc_limpo = df_proc_limpo.loc[df_proc_limpo['population'] >= corte_population_max_min]\n",
    "df_proc_limpo = df_proc_limpo.loc[df_proc_limpo['population'] <= corte_population_max]\n",
    "\n",
    "#df_proc_limpo = df_proc_limpo.loc[df_proc_limpo['median_income'] >= corte_median_income_min]\n",
    "#df_proc_limpo = df_proc_limpo.loc[df_proc_limpo['median_income'] <= corte_median_income_max]\n",
    "\n",
    "df_proc_limpo = df_proc_limpo.loc[df_proc_limpo['median_house_value'] >= corte_median_house_value_min]\n",
    "df_proc_limpo = df_proc_limpo.loc[df_proc_limpo['median_house_value'] <= corte_median_house_value_max]\n",
    "\n",
    "#print(df_proc_limpo)\n",
    "df_proc_limpo.info()\n"
   ]
  },
  {
   "cell_type": "code",
   "execution_count": 14,
   "metadata": {},
   "outputs": [
    {
     "name": "stderr",
     "output_type": "stream",
     "text": [
      "C:\\Users\\lcr07\\AppData\\Local\\conda\\conda\\envs\\test\\lib\\site-packages\\sklearn\\utils\\validation.py:578: DataConversionWarning: A column-vector y was passed when a 1d array was expected. Please change the shape of y to (n_samples, ), for example using ravel().\n",
      "  y = column_or_1d(y, warn=True)\n"
     ]
    },
    {
     "name": "stdout",
     "output_type": "stream",
     "text": [
      "0.7039810850334728\n",
      "0.7314689407444187\n"
     ]
    }
   ],
   "source": [
    "# Montar estimadores\n",
    "# Separando os dados\n",
    "# Criando lista de features\n",
    "features = list(['households','ocean_proximity','population','total_rooms','total_bedrooms','housing_median_age','median_income'])\n",
    "X = df_proc_limpo[features]\n",
    "\n",
    "saidas = list(['median_house_value'])\n",
    "Y = df_proc_limpo[saidas]\n",
    "\n",
    "# Separar dados de aprendizagem e treino\n",
    "# O retorno quebra os dados em 4 tipos\n",
    "x_train, x_test, y_train, y_test =train_test_split(X, Y, test_size=0.4, random_state = 5)\n",
    "\n",
    "# Fazer a rede aprender, usando algoritmo de regressão linear\n",
    "#model = linear_model.LinearRegression()\n",
    "model = ensemble.GradientBoostingRegressor()\n",
    " \n",
    "# Realiza o treino\n",
    "model.fit(x_train,y_train)\n",
    "\n",
    "# Valida se o modelo da certo com os dados de teste\n",
    "scoreTeste = model.score(x_test,y_test)\n",
    "print('Score Teste:', scoreTeste)\n",
    "\n",
    "# Valida se o modelo da certo com os dados de teste\n",
    "scoreTreino = model.score(x_train,y_train)\n",
    "print('Score Treino:', scoreTreino)"
   ]
  },
  {
   "cell_type": "code",
   "execution_count": 16,
   "metadata": {},
   "outputs": [
    {
     "name": "stdout",
     "output_type": "stream",
     "text": [
      "0.5903924104715974\n",
      "Score Treino: 0.5898715405767025\n"
     ]
    }
   ],
   "source": [
    "# Fazer a rede aprender, usando algoritmo de regressão linear\n",
    "modelLin = linear_model.LinearRegression()\n",
    "\n",
    "# Realiza o treino\n",
    "modelLin.fit(x_train,y_train)\n",
    "\n",
    "# Valida se o modelo da certo com os dados de teste\n",
    "scoreTesteLin = modelLin.score(x_test,y_test)\n",
    "print('Score Teste:', scoreTesteLin)\n",
    "\n",
    "# Valida se o modelo da certo com os dados de teste\n",
    "scoreTreinoLin = modelLin.score(x_train,y_train)\n",
    "print('Score Treino:' , scoreTreinoLin)"
   ]
  },
  {
   "cell_type": "code",
   "execution_count": null,
   "metadata": {},
   "outputs": [],
   "source": []
  },
  {
   "cell_type": "code",
   "execution_count": null,
   "metadata": {},
   "outputs": [],
   "source": []
  }
 ],
 "metadata": {
  "kernelspec": {
   "display_name": "Python 3",
   "language": "python",
   "name": "python3"
  },
  "language_info": {
   "codemirror_mode": {
    "name": "ipython",
    "version": 3
   },
   "file_extension": ".py",
   "mimetype": "text/x-python",
   "name": "python",
   "nbconvert_exporter": "python",
   "pygments_lexer": "ipython3",
   "version": "3.7.0"
  }
 },
 "nbformat": 4,
 "nbformat_minor": 2
}
